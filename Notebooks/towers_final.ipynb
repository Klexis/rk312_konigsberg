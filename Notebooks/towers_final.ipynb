{
 "cells": [
  {
   "cell_type": "code",
   "execution_count": 1,
   "metadata": {},
   "outputs": [],
   "source": [
    "import pandas as pd\n",
    "import numpy as np\n",
    "import json\n",
    "import requests\n",
    "import urllib3"
   ]
  },
  {
   "cell_type": "code",
   "execution_count": 2,
   "metadata": {},
   "outputs": [
    {
     "name": "stdout",
     "output_type": "stream",
     "text": [
      "6716\n"
     ]
    }
   ],
   "source": [
    "towers=pd.read_csv('./data/towers_min.csv')\n",
    "towers.head()\n",
    "print(len(towers.index))"
   ]
  },
  {
   "cell_type": "code",
   "execution_count": null,
   "metadata": {},
   "outputs": [],
   "source": [
    "def getAdd(cur_lat,cur_lon):\n",
    "    req_json = requests.get('https://nominatim.openstreetmap.org/reverse?format=json&lat={lat}&lon={lon}&zoom=18&addressdetails=1'.format(\n",
    "            lat=cur_lat, lon=cur_lon)).json()\n",
    "    add_string = \"\"\n",
    "    add_string +=\" ,\".join(req_json['address'].values())\n",
    "    return add_string\n",
    "    \n",
    "    \n",
    "towers['Address'] = towers.apply(lambda row : getAdd(row['lat'], row['lon']), axis=1)\n",
    "towers.to_csv('./data/towers_final.csv')"
   ]
  }
 ],
 "metadata": {
  "kernelspec": {
   "display_name": "Python 3",
   "language": "python",
   "name": "python3"
  },
  "language_info": {
   "codemirror_mode": {
    "name": "ipython",
    "version": 3
   },
   "file_extension": ".py",
   "mimetype": "text/x-python",
   "name": "python",
   "nbconvert_exporter": "python",
   "pygments_lexer": "ipython3",
   "version": "3.7.7"
  }
 },
 "nbformat": 4,
 "nbformat_minor": 4
}