{
 "cells": [
  {
   "cell_type": "code",
   "execution_count": null,
   "metadata": {},
   "outputs": [],
   "source": [
    "import pandas as pd\n",
    "import numpy as np\n",
    "import json\n",
    "import networkx as nx\n",
    "import plotly.graph_objects as go\n",
    "from matplotlib import cm\n",
    "from matplotlib.colors import ListedColormap, LinearSegmentedColormap \n",
    "import dash\n",
    "import dash_core_components as dcc\n",
    "import dash_html_components as html"
   ]
  },
  {
   "cell_type": "code",
   "execution_count": null,
   "metadata": {},
   "outputs": [],
   "source": [
    "external_stylesheets = ['https://codepen.io/chriddyp/pen/bWLwgP.css']\n",
    "app = dash.Dash(__name__, external_stylesheets=external_stylesheets)"
   ]
  },
  {
   "cell_type": "code",
   "execution_count": null,
   "metadata": {
    "tags": []
   },
   "outputs": [],
   "source": [
    "viridis = cm.get_cmap('viridis', 12)\n",
    "G = nx.random_geometric_graph(nodes.shape[0], 0.125)"
   ]
  },
  {
   "cell_type": "code",
   "execution_count": null,
   "metadata": {},
   "outputs": [],
   "source": [
    "df =pd.read_csv('../data/data.csv')"
   ]
  },
  {
   "cell_type": "code",
   "execution_count": null,
   "metadata": {},
   "outputs": [],
   "source": [
    "df['Caller_node']=df['Caller'].apply(lambda x:list(nodes).index(x))\n",
    "df['Receiver_node']=df['Receiver'].apply(lambda x:list(nodes).index(x))\n",
    "df['Dura_color']=(df['Duration']/df['Duration'].max()).apply(viridis)\n",
    "df['Date']=df['Date'].apply(pd.to_datetime)\n",
    "df['Dura_color']=(df['Duration']).apply(viridis)"
   ]
  },
  {
   "cell_type": "code",
   "execution_count": null,
   "metadata": {},
   "outputs": [],
   "source": [
    "selected_date='2020-06-18'\n",
    "df[df['Date']==pd.to_datetime(selected_date)]"
   ]
  },
  {
   "cell_type": "code",
   "execution_count": null,
   "metadata": {},
   "outputs": [],
   "source": [
    "#https://plotly.com/python/network-graphs/#create-edges\n",
    "#nodes and edges\n",
    "\n",
    "edges=np.array(df[['Caller','Receiver']])\n",
    "nodes=np.union1d(df['Caller'].unique(),df['Receiver'].unique())\n",
    "#adding lines\n",
    "edge_trace=[]\n",
    "def add_coords(x): \n",
    "    x0,y0=G.nodes[x['Caller_node']]['pos']\n",
    "    x1,y1=G.nodes[x['Receiver_node']]['pos']\n",
    "    edge_trace.append(dict(type='scatter',\n",
    "    x=[x0,x1], y=[y0,y1],\n",
    "    line=dict(width=0.5, color='rgba'+str(x['Dura_color'])),\n",
    "    hoverinfo='none',\n",
    "    mode='lines'))\n",
    "df.apply(add_coords,axis=1)\n",
    "## adding points\n",
    "node_x = []\n",
    "node_y = []\n",
    "for node in G.nodes():\n",
    "    x, y = G.nodes[node]['pos']\n",
    "    node_x.append(x)\n",
    "    node_y.append(y)\n",
    "node_trace = go.Scatter(\n",
    "    x=node_x, y=node_y,\n",
    "    mode='markers',\n",
    "    hoverinfo='text',\n",
    "    marker=dict(\n",
    "        size=10,\n",
    "        line_width=2))\n",
    "fig = go.Figure(data=edge_trace+[node_trace],\n",
    "             layout=go.Layout(\n",
    "                title='<br>Phone Calls Made',\n",
    "                titlefont_size=16,\n",
    "                showlegend=False,\n",
    "                hovermode='closest',\n",
    "                margin=dict(b=20,l=5,r=5,t=40),\n",
    "                annotations=[ dict(\n",
    "                    showarrow=True,\n",
    "                    xref=\"paper\", yref=\"paper\",\n",
    "                    x=0.005, y=-0.002 ) ],\n",
    "                xaxis=dict(showgrid=False, zeroline=False, showticklabels=False),\n",
    "                yaxis=dict(showgrid=False, zeroline=False, showticklabels=False))\n",
    "                )\n"
   ]
  },
  {
   "cell_type": "code",
   "execution_count": null,
   "metadata": {},
   "outputs": [],
   "source": [
    "app.layout = html.Div(children=[\n",
    "    html.H1(children='CDR Analyser'),\n",
    "\n",
    "    html.Div(children='''\n",
    "        Analyse the phone calls between people.\n",
    "    '''),\n",
    "    dcc.Graph(\n",
    "        id='network-plot',\n",
    "        figure=fig\n",
    "    )\n",
    "])"
   ]
  },
  {
   "cell_type": "code",
   "execution_count": null,
   "metadata": {
    "tags": []
   },
   "outputs": [],
   "source": [
    "app.run_server(mode='jupyterlab',debug=True,port=8000)"
   ]
  },
  {
   "cell_type": "code",
   "execution_count": null,
   "metadata": {},
   "outputs": [],
   "source": [
    "df['Date'].unique()"
   ]
  },
  {
   "cell_type": "code",
   "execution_count": null,
   "metadata": {},
   "outputs": [],
   "source": []
  }
 ],
 "metadata": {
  "kernelspec": {
   "display_name": "Python 3",
   "language": "python",
   "name": "python3"
  },
  "language_info": {
   "codemirror_mode": {
    "name": "ipython",
    "version": 3
   },
   "file_extension": ".py",
   "mimetype": "text/x-python",
   "name": "python",
   "nbconvert_exporter": "python",
   "pygments_lexer": "ipython3",
   "version": "3.8.2-final"
  }
 },
 "nbformat": 4,
 "nbformat_minor": 4
}