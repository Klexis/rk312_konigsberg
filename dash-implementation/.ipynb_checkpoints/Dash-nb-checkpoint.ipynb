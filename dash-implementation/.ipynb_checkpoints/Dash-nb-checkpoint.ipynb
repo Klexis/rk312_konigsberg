{
 "cells": [
  {
   "cell_type": "markdown",
   "metadata": {},
   "source": [
    "# Import Libraries"
   ]
  },
  {
   "cell_type": "code",
   "execution_count": 1,
   "metadata": {},
   "outputs": [],
   "source": [
    "import pandas as pd\n",
    "import numpy as np\n",
    "import json\n",
    "import networkx as nx\n",
    "import plotly.graph_objects as go\n",
    "from matplotlib import cm\n",
    "from matplotlib.colors import ListedColormap, LinearSegmentedColormap \n",
    "import dash\n",
    "import dash_core_components as dcc\n",
    "import dash_html_components as html\n",
    "from dash.dependencies import Input, Output\n",
    "from datetime import datetime as dt\n",
    "from jupyter_dash import JupyterDash"
   ]
  },
  {
   "cell_type": "markdown",
   "metadata": {},
   "source": [
    "# Define Variable and some preprocessing"
   ]
  },
  {
   "cell_type": "code",
   "execution_count": 2,
   "metadata": {},
   "outputs": [],
   "source": [
    "external_stylesheets = ['https://codepen.io/chriddyp/pen/bWLwgP.css']\n",
    "app = JupyterDash(__name__, external_stylesheets=external_stylesheets)"
   ]
  },
  {
   "cell_type": "code",
   "execution_count": 3,
   "metadata": {
    "tags": []
   },
   "outputs": [],
   "source": [
    "df =pd.read_csv(\"../data/data.csv\")\n",
    "#Color scale of edges\n",
    "viridis = cm.get_cmap('viridis', 12)\n",
    "df['Dura_color']=(df['Duration']/df['Duration'].max()).apply(viridis)\n",
    "df['Date']=df['Date'].apply(pd.to_datetime).dt.date\n"
   ]
  },
  {
   "cell_type": "markdown",
   "metadata": {},
   "source": [
    "# Plots "
   ]
  },
  {
   "cell_type": "markdown",
   "metadata": {},
   "source": [
    "## Plot graph"
   ]
  },
  {
   "cell_type": "code",
   "execution_count": 4,
   "metadata": {},
   "outputs": [],
   "source": [
    "\n",
    "def plot_network(df):\n",
    "    nodes=np.union1d(df['Caller'].unique(),df['Receiver'].unique())\n",
    "    \n",
    "    G = nx.random_geometric_graph(nodes.shape[0], 0.125)\n",
    "    df['Caller_node']=df['Caller'].apply(lambda x:list(nodes).index(x))\n",
    "    df['Receiver_node']=df['Receiver'].apply(lambda x:list(nodes).index(x))\n",
    "    # Add Edges to Plot\n",
    "    edge_trace=[]\n",
    "    def add_coords(x): \n",
    "        x0,y0=G.nodes[x['Caller_node']]['pos']\n",
    "        x1,y1=G.nodes[x['Receiver_node']]['pos']\n",
    "        edge_trace.append(dict(type='scatter',\n",
    "        x=[x0,x1], y=[y0,y1],\n",
    "        line=dict(width=0.5, color='rgba'+str(x['Dura_color'])),\n",
    "        hoverinfo='none',\n",
    "        mode='lines'))\n",
    "    df.apply(add_coords,axis=1)\n",
    "    ## adding points\n",
    "    node_x = []\n",
    "    node_y = []\n",
    "    for node in G.nodes():\n",
    "        x, y = G.nodes[node]['pos']\n",
    "        node_x.append(x)\n",
    "        node_y.append(y)\n",
    "    node_trace = go.Scatter(\n",
    "        x=node_x, y=node_y,\n",
    "        mode='markers',\n",
    "        hoverinfo='text',\n",
    "        marker=dict(\n",
    "            size=10,\n",
    "            line_width=2))\n",
    "    fig = go.Figure(data=edge_trace+[node_trace],\n",
    "                layout=go.Layout(\n",
    "                    title='<br>Phone Calls Made',\n",
    "                    titlefont_size=16,\n",
    "                    showlegend=False,\n",
    "                    hovermode='closest',\n",
    "                    margin=dict(b=20,l=5,r=5,t=40),\n",
    "                    annotations=[ dict(\n",
    "                        showarrow=True,\n",
    "                        xref=\"paper\", yref=\"paper\",\n",
    "                        x=0.005, y=-0.002 ) ],\n",
    "                    xaxis=dict(showgrid=False, zeroline=False, showticklabels=False),\n",
    "                    yaxis=dict(showgrid=False, zeroline=False, showticklabels=False))\n",
    "                    )\n",
    "    fig.update_layout(transition_duration=500)\n",
    "    return fig"
   ]
  },
  {
   "cell_type": "markdown",
   "metadata": {},
   "source": [
    "# App Layout"
   ]
  },
  {
   "cell_type": "code",
   "execution_count": null,
   "metadata": {},
   "outputs": [],
   "source": [
    "app.layout = html.Div(children=[\n",
    "    html.H1(children='CDR Analyser'),\n",
    "\n",
    "    html.Div(children='''\n",
    "        Analyse the phone calls between people.\n",
    "    '''),\n",
    "    html.Div(\n",
    "        id='date-selected'\n",
    "    ),\n",
    "    dcc.Graph(\n",
    "        id='network-plot',\n",
    "        figure=plot_network(df[df['Date']==df['Date'].min()].reset_index(drop=True))\n",
    "    ),\n",
    "    dcc.DatePickerSingle(\n",
    "        id='date-picker',\n",
    "        min_date_allowed=df['Date'].min(),\n",
    "        max_date_allowed=df['Date'].max(),   \n",
    "        initial_visible_month=dt(2020, 6, 5),\n",
    "        date=str(dt(2020, 6, 5, 0, 0, 0 )) \n",
    "    ),\n",
    "])"
   ]
  },
  {
   "cell_type": "markdown",
   "metadata": {},
   "source": [
    "# Callbacks"
   ]
  },
  {
   "cell_type": "code",
   "execution_count": 11,
   "metadata": {},
   "outputs": [],
   "source": [
    "@app.callback(\n",
    "    Output(component_id='network-plot', component_property='figure'),\n",
    "    [Input(component_id='date-picker', component_property='date')]\n",
    ")\n",
    "def update_output_div(selected_date):\n",
    "    print('Callback Called')\n",
    "    filtered_df=df[df['Date']==pd.to_datetime(selected_date)].reset_index(drop=True)\n",
    "    return plot_network(filtered_df)"
   ]
  },
  {
   "cell_type": "code",
   "execution_count": 12,
   "metadata": {
    "tags": []
   },
   "outputs": [
    {
     "name": "stdout",
     "output_type": "stream",
     "text": [
      "Dash app running on http://127.0.0.1:8000/\n"
     ]
    }
   ],
   "source": [
    "app.run_server(debug=True,port=8000)"
   ]
  }
 ],
 "metadata": {
  "kernelspec": {
   "display_name": "Python 3",
   "language": "python",
   "name": "python3"
  },
  "language_info": {
   "codemirror_mode": {
    "name": "ipython",
    "version": 3
   },
   "file_extension": ".py",
   "mimetype": "text/x-python",
   "name": "python",
   "nbconvert_exporter": "python",
   "pygments_lexer": "ipython3",
   "version": "3.7.6"
  }
 },
 "nbformat": 4,
 "nbformat_minor": 4
}
